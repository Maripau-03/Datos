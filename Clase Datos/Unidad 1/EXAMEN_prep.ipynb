{
 "cells": [
  {
   "cell_type": "code",
   "execution_count": 112,
   "metadata": {},
   "outputs": [
    {
     "name": "stderr",
     "output_type": "stream",
     "text": [
      "/tmp/ipykernel_2126/1117478845.py:6: DtypeWarning: Columns (3,4,5,6,96,119,121,213,214,215,216,217,218,239,256,258,273,274,281) have mixed types. Specify dtype option on import or set low_memory=False.\n",
      "  data = pd.read_csv('df_fear (1).csv')\n"
     ]
    },
    {
     "name": "stdout",
     "output_type": "stream",
     "text": [
      "<class 'pandas.core.frame.DataFrame'>\n",
      "RangeIndex: 10604 entries, 0 to 10603\n",
      "Columns: 318 entries, CASEID to HCUTOTH\n",
      "dtypes: float64(215), int64(59), object(44)\n",
      "memory usage: 25.7+ MB\n"
     ]
    },
    {
     "data": {
      "text/html": [
       "<div>\n",
       "<style scoped>\n",
       "    .dataframe tbody tr th:only-of-type {\n",
       "        vertical-align: middle;\n",
       "    }\n",
       "\n",
       "    .dataframe tbody tr th {\n",
       "        vertical-align: top;\n",
       "    }\n",
       "\n",
       "    .dataframe thead th {\n",
       "        text-align: right;\n",
       "    }\n",
       "</style>\n",
       "<table border=\"1\" class=\"dataframe\">\n",
       "  <thead>\n",
       "    <tr style=\"text-align: right;\">\n",
       "      <th></th>\n",
       "      <th>CASEID</th>\n",
       "      <th>WGT</th>\n",
       "      <th>YEAR</th>\n",
       "      <th>CPI_DEFL</th>\n",
       "      <th>AGE</th>\n",
       "      <th>AGECL</th>\n",
       "      <th>HHSEX</th>\n",
       "      <th>EDCL</th>\n",
       "      <th>EDUC</th>\n",
       "      <th>FAMSTRUCT</th>\n",
       "      <th>...</th>\n",
       "      <th>EMERGSAV</th>\n",
       "      <th>HSAVFIN</th>\n",
       "      <th>HSAVNFIN</th>\n",
       "      <th>HPSTPPAY</th>\n",
       "      <th>HPSTPLN</th>\n",
       "      <th>HPSTPOTH</th>\n",
       "      <th>EMERGCUT</th>\n",
       "      <th>HCUTFOOD</th>\n",
       "      <th>HCUTENT</th>\n",
       "      <th>HCUTOTH</th>\n",
       "    </tr>\n",
       "  </thead>\n",
       "  <tbody>\n",
       "    <tr>\n",
       "      <th>count</th>\n",
       "      <td>10604.000000</td>\n",
       "      <td>10604.000000</td>\n",
       "      <td>10604.000000</td>\n",
       "      <td>10604.000000</td>\n",
       "      <td>10604.000000</td>\n",
       "      <td>10604.000000</td>\n",
       "      <td>10604.000000</td>\n",
       "      <td>10604.000000</td>\n",
       "      <td>10604.000000</td>\n",
       "      <td>10604.000000</td>\n",
       "      <td>...</td>\n",
       "      <td>10604.0</td>\n",
       "      <td>10604.0</td>\n",
       "      <td>10604.0</td>\n",
       "      <td>10604.0</td>\n",
       "      <td>10604.0</td>\n",
       "      <td>10604.0</td>\n",
       "      <td>10604.0</td>\n",
       "      <td>10604.0</td>\n",
       "      <td>10604.0</td>\n",
       "      <td>10604.0</td>\n",
       "    </tr>\n",
       "    <tr>\n",
       "      <th>mean</th>\n",
       "      <td>25953.512920</td>\n",
       "      <td>6174.373220</td>\n",
       "      <td>1992.131837</td>\n",
       "      <td>0.593269</td>\n",
       "      <td>40.459261</td>\n",
       "      <td>2.183516</td>\n",
       "      <td>1.260468</td>\n",
       "      <td>2.628536</td>\n",
       "      <td>8.881177</td>\n",
       "      <td>3.251037</td>\n",
       "      <td>...</td>\n",
       "      <td>0.0</td>\n",
       "      <td>0.0</td>\n",
       "      <td>0.0</td>\n",
       "      <td>0.0</td>\n",
       "      <td>0.0</td>\n",
       "      <td>0.0</td>\n",
       "      <td>0.0</td>\n",
       "      <td>0.0</td>\n",
       "      <td>0.0</td>\n",
       "      <td>0.0</td>\n",
       "    </tr>\n",
       "    <tr>\n",
       "      <th>std</th>\n",
       "      <td>14405.148597</td>\n",
       "      <td>3792.279715</td>\n",
       "      <td>2.288033</td>\n",
       "      <td>0.039170</td>\n",
       "      <td>12.956472</td>\n",
       "      <td>1.223141</td>\n",
       "      <td>0.438911</td>\n",
       "      <td>1.044597</td>\n",
       "      <td>2.990858</td>\n",
       "      <td>1.407453</td>\n",
       "      <td>...</td>\n",
       "      <td>0.0</td>\n",
       "      <td>0.0</td>\n",
       "      <td>0.0</td>\n",
       "      <td>0.0</td>\n",
       "      <td>0.0</td>\n",
       "      <td>0.0</td>\n",
       "      <td>0.0</td>\n",
       "      <td>0.0</td>\n",
       "      <td>0.0</td>\n",
       "      <td>0.0</td>\n",
       "    </tr>\n",
       "    <tr>\n",
       "      <th>min</th>\n",
       "      <td>16.000000</td>\n",
       "      <td>0.200000</td>\n",
       "      <td>1989.000000</td>\n",
       "      <td>0.535946</td>\n",
       "      <td>17.000000</td>\n",
       "      <td>1.000000</td>\n",
       "      <td>1.000000</td>\n",
       "      <td>1.000000</td>\n",
       "      <td>-1.000000</td>\n",
       "      <td>1.000000</td>\n",
       "      <td>...</td>\n",
       "      <td>0.0</td>\n",
       "      <td>0.0</td>\n",
       "      <td>0.0</td>\n",
       "      <td>0.0</td>\n",
       "      <td>0.0</td>\n",
       "      <td>0.0</td>\n",
       "      <td>0.0</td>\n",
       "      <td>0.0</td>\n",
       "      <td>0.0</td>\n",
       "      <td>0.0</td>\n",
       "    </tr>\n",
       "    <tr>\n",
       "      <th>25%</th>\n",
       "      <td>14457.000000</td>\n",
       "      <td>4558.368283</td>\n",
       "      <td>1989.000000</td>\n",
       "      <td>0.535946</td>\n",
       "      <td>31.000000</td>\n",
       "      <td>1.000000</td>\n",
       "      <td>1.000000</td>\n",
       "      <td>2.000000</td>\n",
       "      <td>8.000000</td>\n",
       "      <td>2.000000</td>\n",
       "      <td>...</td>\n",
       "      <td>0.0</td>\n",
       "      <td>0.0</td>\n",
       "      <td>0.0</td>\n",
       "      <td>0.0</td>\n",
       "      <td>0.0</td>\n",
       "      <td>0.0</td>\n",
       "      <td>0.0</td>\n",
       "      <td>0.0</td>\n",
       "      <td>0.0</td>\n",
       "      <td>0.0</td>\n",
       "    </tr>\n",
       "    <tr>\n",
       "      <th>50%</th>\n",
       "      <td>26593.000000</td>\n",
       "      <td>6132.666048</td>\n",
       "      <td>1992.000000</td>\n",
       "      <td>0.596279</td>\n",
       "      <td>39.000000</td>\n",
       "      <td>2.000000</td>\n",
       "      <td>1.000000</td>\n",
       "      <td>3.000000</td>\n",
       "      <td>9.000000</td>\n",
       "      <td>4.000000</td>\n",
       "      <td>...</td>\n",
       "      <td>0.0</td>\n",
       "      <td>0.0</td>\n",
       "      <td>0.0</td>\n",
       "      <td>0.0</td>\n",
       "      <td>0.0</td>\n",
       "      <td>0.0</td>\n",
       "      <td>0.0</td>\n",
       "      <td>0.0</td>\n",
       "      <td>0.0</td>\n",
       "      <td>0.0</td>\n",
       "    </tr>\n",
       "    <tr>\n",
       "      <th>75%</th>\n",
       "      <td>38441.250000</td>\n",
       "      <td>7776.793631</td>\n",
       "      <td>1995.000000</td>\n",
       "      <td>0.638568</td>\n",
       "      <td>48.000000</td>\n",
       "      <td>3.000000</td>\n",
       "      <td>2.000000</td>\n",
       "      <td>4.000000</td>\n",
       "      <td>12.000000</td>\n",
       "      <td>4.000000</td>\n",
       "      <td>...</td>\n",
       "      <td>0.0</td>\n",
       "      <td>0.0</td>\n",
       "      <td>0.0</td>\n",
       "      <td>0.0</td>\n",
       "      <td>0.0</td>\n",
       "      <td>0.0</td>\n",
       "      <td>0.0</td>\n",
       "      <td>0.0</td>\n",
       "      <td>0.0</td>\n",
       "      <td>0.0</td>\n",
       "    </tr>\n",
       "    <tr>\n",
       "      <th>max</th>\n",
       "      <td>50020.000000</td>\n",
       "      <td>31115.820076</td>\n",
       "      <td>1995.000000</td>\n",
       "      <td>0.638568</td>\n",
       "      <td>85.000000</td>\n",
       "      <td>6.000000</td>\n",
       "      <td>2.000000</td>\n",
       "      <td>4.000000</td>\n",
       "      <td>14.000000</td>\n",
       "      <td>5.000000</td>\n",
       "      <td>...</td>\n",
       "      <td>0.0</td>\n",
       "      <td>0.0</td>\n",
       "      <td>0.0</td>\n",
       "      <td>0.0</td>\n",
       "      <td>0.0</td>\n",
       "      <td>0.0</td>\n",
       "      <td>0.0</td>\n",
       "      <td>0.0</td>\n",
       "      <td>0.0</td>\n",
       "      <td>0.0</td>\n",
       "    </tr>\n",
       "  </tbody>\n",
       "</table>\n",
       "<p>8 rows × 274 columns</p>\n",
       "</div>"
      ],
      "text/plain": [
       "             CASEID           WGT          YEAR      CPI_DEFL           AGE  \\\n",
       "count  10604.000000  10604.000000  10604.000000  10604.000000  10604.000000   \n",
       "mean   25953.512920   6174.373220   1992.131837      0.593269     40.459261   \n",
       "std    14405.148597   3792.279715      2.288033      0.039170     12.956472   \n",
       "min       16.000000      0.200000   1989.000000      0.535946     17.000000   \n",
       "25%    14457.000000   4558.368283   1989.000000      0.535946     31.000000   \n",
       "50%    26593.000000   6132.666048   1992.000000      0.596279     39.000000   \n",
       "75%    38441.250000   7776.793631   1995.000000      0.638568     48.000000   \n",
       "max    50020.000000  31115.820076   1995.000000      0.638568     85.000000   \n",
       "\n",
       "              AGECL         HHSEX          EDCL          EDUC     FAMSTRUCT  \\\n",
       "count  10604.000000  10604.000000  10604.000000  10604.000000  10604.000000   \n",
       "mean       2.183516      1.260468      2.628536      8.881177      3.251037   \n",
       "std        1.223141      0.438911      1.044597      2.990858      1.407453   \n",
       "min        1.000000      1.000000      1.000000     -1.000000      1.000000   \n",
       "25%        1.000000      1.000000      2.000000      8.000000      2.000000   \n",
       "50%        2.000000      1.000000      3.000000      9.000000      4.000000   \n",
       "75%        3.000000      2.000000      4.000000     12.000000      4.000000   \n",
       "max        6.000000      2.000000      4.000000     14.000000      5.000000   \n",
       "\n",
       "       ...  EMERGSAV  HSAVFIN  HSAVNFIN  HPSTPPAY  HPSTPLN  HPSTPOTH  \\\n",
       "count  ...   10604.0  10604.0   10604.0   10604.0  10604.0   10604.0   \n",
       "mean   ...       0.0      0.0       0.0       0.0      0.0       0.0   \n",
       "std    ...       0.0      0.0       0.0       0.0      0.0       0.0   \n",
       "min    ...       0.0      0.0       0.0       0.0      0.0       0.0   \n",
       "25%    ...       0.0      0.0       0.0       0.0      0.0       0.0   \n",
       "50%    ...       0.0      0.0       0.0       0.0      0.0       0.0   \n",
       "75%    ...       0.0      0.0       0.0       0.0      0.0       0.0   \n",
       "max    ...       0.0      0.0       0.0       0.0      0.0       0.0   \n",
       "\n",
       "       EMERGCUT  HCUTFOOD  HCUTENT  HCUTOTH  \n",
       "count   10604.0   10604.0  10604.0  10604.0  \n",
       "mean        0.0       0.0      0.0      0.0  \n",
       "std         0.0       0.0      0.0      0.0  \n",
       "min         0.0       0.0      0.0      0.0  \n",
       "25%         0.0       0.0      0.0      0.0  \n",
       "50%         0.0       0.0      0.0      0.0  \n",
       "75%         0.0       0.0      0.0      0.0  \n",
       "max         0.0       0.0      0.0      0.0  \n",
       "\n",
       "[8 rows x 274 columns]"
      ]
     },
     "execution_count": 112,
     "metadata": {},
     "output_type": "execute_result"
    }
   ],
   "source": [
    "import pandas as pd \n",
    "import numpy as np \n",
    "import matplotlib.pyplot as plt \n",
    "import seaborn as sns \n",
    "\n",
    "data = pd.read_csv('df_fear (1).csv')\n",
    "data.info() \n",
    "data.describe() "
   ]
  },
  {
   "cell_type": "code",
   "execution_count": 113,
   "metadata": {},
   "outputs": [
    {
     "name": "stdout",
     "output_type": "stream",
     "text": [
      "<class 'pandas.core.frame.DataFrame'>\n",
      "RangeIndex: 10604 entries, 0 to 10603\n",
      "Data columns (total 35 columns):\n",
      " #   Column        Non-Null Count  Dtype  \n",
      "---  ------        --------------  -----  \n",
      " 0   AGE           10604 non-null  int64  \n",
      " 1   AGECL         10604 non-null  int64  \n",
      " 2   HHSEX         10604 non-null  int64  \n",
      " 3   EDCL          10604 non-null  int64  \n",
      " 4   EDUC          10604 non-null  int64  \n",
      " 5   KIDS          10604 non-null  int64  \n",
      " 6   MARRIED       10604 non-null  int64  \n",
      " 7   RACE          10604 non-null  int64  \n",
      " 8   LF            10604 non-null  int64  \n",
      " 9   HDEBT         10604 non-null  int64  \n",
      " 10  DEBT          10604 non-null  float64\n",
      " 11  EDN_INST      10604 non-null  float64\n",
      " 12  VEH_INST      10604 non-null  float64\n",
      " 13  OTH_INST      10604 non-null  float64\n",
      " 14  SAVRES1       10604 non-null  float64\n",
      " 15  SAVRES2       10604 non-null  float64\n",
      " 16  SAVRES3       10604 non-null  float64\n",
      " 17  SAVRES4       10604 non-null  float64\n",
      " 18  SAVRES5       10604 non-null  float64\n",
      " 19  SAVRES6       10604 non-null  float64\n",
      " 20  SAVRES7       10604 non-null  float64\n",
      " 21  SAVRES8       10604 non-null  float64\n",
      " 22  SAVRES9       10604 non-null  float64\n",
      " 23  SAVED         10604 non-null  object \n",
      " 24  INCOME        10604 non-null  float64\n",
      " 25  NORMINC       10604 non-null  object \n",
      " 26  BUSSEFARMINC  10604 non-null  float64\n",
      " 27  INTDIVINC     10604 non-null  float64\n",
      " 28  SSRETINC      10604 non-null  float64\n",
      " 29  TRANSFOTHINC  10604 non-null  float64\n",
      " 30  WAGEINC       10604 non-null  float64\n",
      " 31  KGINC         10604 non-null  float64\n",
      " 32  FOODHOME      10604 non-null  float64\n",
      " 33  FOODDELV      10604 non-null  float64\n",
      " 34  FOODAWAY      10604 non-null  float64\n",
      "dtypes: float64(23), int64(10), object(2)\n",
      "memory usage: 2.8+ MB\n"
     ]
    }
   ],
   "source": [
    "# 1 Las variables con la que se trabajará son: AGE AGECL HHSEX EDCL EDUC KIDS MARRIED RACE LF HDEBT DEBT EDN_INST VEH_INST OTH_INST SAVRES1 a SAVERES9 SAVED INCOME NORMINC BUSSEFARMINC INTDIVINC SSRETINC TRANSFOTHINC WAGEINC KGINC FOODHOME FOODDELV FOODAWAY\n",
    "#Elimina el resto de las variables que no vamos a utilizar o bien quedate sólo con las aquí en listadas, guarda esa base de datos como df_debt\n",
    "#¿Con cuántas variables nos quedamos en la base de datos?\n",
    "\n",
    "#Limpia los datos y solo deja estas variables: AGE AGECL HHSEX EDCL EDUC KIDS MARRIED RACE LF HDEBT DEBT EDN_INST VEH_INST OTH_INST SAVRES1 a SAVERES9 SAVED INCOME NORMINC BUSSEFARMINC INTDIVINC SSRETINC TRANSFOTHINC WAGEINC KGINC FOODHOME FOODDELV FOODAWAY\n",
    "df_debt = data[['AGE', 'AGECL', 'HHSEX', 'EDCL', 'EDUC', 'KIDS', 'MARRIED', 'RACE', 'LF', 'HDEBT', 'DEBT', 'EDN_INST', 'VEH_INST', 'OTH_INST', 'SAVRES1', 'SAVRES2', 'SAVRES3', 'SAVRES4', 'SAVRES5', 'SAVRES6', 'SAVRES7', 'SAVRES8', 'SAVRES9', 'SAVED', 'INCOME', 'NORMINC', 'BUSSEFARMINC', 'INTDIVINC', 'SSRETINC', 'TRANSFOTHINC', 'WAGEINC', 'KGINC', 'FOODHOME', 'FOODDELV', 'FOODAWAY']]\n",
    "df_debt.info()"
   ]
  },
  {
   "cell_type": "code",
   "execution_count": 114,
   "metadata": {},
   "outputs": [
    {
     "name": "stdout",
     "output_type": "stream",
     "text": [
      "RACE\n",
      "White non-Hispanic          7194\n",
      "Black / African American    1987\n",
      "Hispanic                     988\n",
      "Other                        435\n",
      "Name: count, dtype: int64\n"
     ]
    },
    {
     "name": "stderr",
     "output_type": "stream",
     "text": [
      "/tmp/ipykernel_2126/391448892.py:4: SettingWithCopyWarning: \n",
      "A value is trying to be set on a copy of a slice from a DataFrame.\n",
      "Try using .loc[row_indexer,col_indexer] = value instead\n",
      "\n",
      "See the caveats in the documentation: https://pandas.pydata.org/pandas-docs/stable/user_guide/indexing.html#returning-a-view-versus-a-copy\n",
      "  df_debt['RACE'] = df_debt['RACE'].replace({\n"
     ]
    }
   ],
   "source": [
    "# 2 Coloca las respetivas etiquetas a la variable RACE\n",
    "#Nota: Para tener la respuesta correcta, debe observarce en el código que la tabla aparece con las etiquetas (nombres) en lugar de números.\n",
    "# Asignar etiquetas a la variable RACE\n",
    "df_debt['RACE'] = df_debt['RACE'].replace({\n",
    "    1: \"White non-Hispanic\",\n",
    "    2: \"Black / African American\",\n",
    "    3: \"Hispanic\",\n",
    "    5: \"Other\"\n",
    "})\n",
    "\n",
    "# Verificar la distribución de la variable RACE\n",
    "race_counts = df_debt['RACE'].value_counts()\n",
    "print(race_counts)"
   ]
  },
  {
   "cell_type": "code",
   "execution_count": 115,
   "metadata": {},
   "outputs": [
    {
     "name": "stdout",
     "output_type": "stream",
     "text": [
      "RACE\n",
      "White non-Hispanic          6410\n",
      "Black / African American    1575\n",
      "Hispanic                     829\n",
      "Other                        342\n",
      "Name: count, dtype: int64\n"
     ]
    },
    {
     "name": "stderr",
     "output_type": "stream",
     "text": [
      "/tmp/ipykernel_2126/790639497.py:2: SettingWithCopyWarning: \n",
      "A value is trying to be set on a copy of a slice from a DataFrame.\n",
      "Try using .loc[row_indexer,col_indexer] = value instead\n",
      "\n",
      "See the caveats in the documentation: https://pandas.pydata.org/pandas-docs/stable/user_guide/indexing.html#returning-a-view-versus-a-copy\n",
      "  df_debt['HDEBT'] = df_debt['HDEBT'].replace({0: 'Creditor', 1: 'Debtor'})\n"
     ]
    }
   ],
   "source": [
    "# 3 Coloca una etiqueta para la variable deuda donde 1 sea Debtor 0 sea Creditor\n",
    "df_debt['HDEBT'] = df_debt['HDEBT'].replace({0: 'Creditor', 1: 'Debtor'})\n",
    "\n",
    "# Filtrar solo a los deudores\n",
    "debtors = df_debt[df_debt['HDEBT'] == \"Debtor\"]\n",
    "\n",
    "# Ver que razas son las que más deudas tienen\n",
    "debtors_race_counts = debtors['RACE'].value_counts()\n",
    "print(debtors_race_counts)\n"
   ]
  },
  {
   "cell_type": "code",
   "execution_count": 118,
   "metadata": {},
   "outputs": [
    {
     "name": "stdout",
     "output_type": "stream",
     "text": [
      "Porcentaje de deudores por etnia:\n",
      "RACE\n",
      "White non-Hispanic          89.10\n",
      "Black / African American    79.27\n",
      "Hispanic                    83.91\n",
      "Other                       78.62\n",
      "Name: count, dtype: float64\n",
      "\n",
      "El porcentaje de hispanos que son deudores es: 83.91%\n"
     ]
    }
   ],
   "source": [
    "# Calcular el total de personas por etnia\n",
    "total_por_raza = df_debt['RACE'].value_counts()\n",
    "\n",
    "# Calcular el número de deudores por etnia\n",
    "deudores_por_raza = debtors['RACE'].value_counts()\n",
    "\n",
    "# Calcular el porcentaje de deudores por etnia\n",
    "porcentaje_deudores_por_raza = (deudores_por_raza / total_por_raza) * 100\n",
    "\n",
    "# Redondear a dos decimales\n",
    "porcentaje_deudores_por_raza = porcentaje_deudores_por_raza.round(2)\n",
    "\n",
    "# Mostrar el porcentaje de deudores por etnia\n",
    "print(\"Porcentaje de deudores por etnia:\")\n",
    "print(porcentaje_deudores_por_raza)\n",
    "\n",
    "# Obtener el porcentaje de Hispanos que son deudores\n",
    "# Asegúrate de que el valor para \"Hispanic\" en la columna RACE sea correcto (por ejemplo, 'Hispanic')\n",
    "porcentaje_hispanos_deudores = porcentaje_deudores_por_raza['Hispanic']\n",
    "print(f\"\\nEl porcentaje de hispanos que son deudores es: {porcentaje_hispanos_deudores}%\")\n"
   ]
  },
  {
   "cell_type": "code",
   "execution_count": null,
   "metadata": {},
   "outputs": [
    {
     "data": {
      "text/plain": [
       "RACE\n",
       "White non-Hispanic          70.01\n",
       "Black / African American    17.20\n",
       "Hispanic                     9.05\n",
       "Other                        3.74\n",
       "Name: proportion, dtype: float64"
      ]
     },
     "execution_count": 105,
     "metadata": {},
     "output_type": "execute_result"
    }
   ],
   "source": [
    "# 4 En la pregunta anterior, la respuesta que obtuviste fue por que es la etnia que más aparece en la base de datos.\n",
    "#Para saber realmente que etnia adquiere más deuda debemos comparar el % de deudores dentro de cada etnia.\n",
    "#Para esto, calcula el porcentaje de deudores por etnia  y contesta la siguientes preguntas:\n",
    "# 4 ¿Qué porcentaje de Hispanos es deudor?\n",
    "# 5 ¿Qué porcentaje de white non-Hispanic es deudor?\n",
    "\n",
    "\n",
    "# Calcular el porcentaje de deudores por etnia y redondea a dos decimales\n",
    "race_debt_percentage = debtors['RACE'].value_counts(normalize=True) * 100\n",
    "race_debt_percentage.round(2)"
   ]
  },
  {
   "cell_type": "code",
   "execution_count": null,
   "metadata": {},
   "outputs": [
    {
     "name": "stdout",
     "output_type": "stream",
     "text": [
      "RACE\n",
      "Black / African American     60909.48\n",
      "Hispanic                     46319.65\n",
      "Other                        74026.87\n",
      "White non-Hispanic          375114.53\n",
      "Name: INCOME, dtype: float64\n"
     ]
    },
    {
     "data": {
      "text/plain": [
       "np.float64(14589.83)"
      ]
     },
     "execution_count": 106,
     "metadata": {},
     "output_type": "execute_result"
    }
   ],
   "source": [
    "#8 Calcular el promedio de INCOME para cada grupo de RACE redondeando a dos decimales\n",
    "#calcular el promedio de INCOME para cada grupo de RACE\n",
    "income_by_race = df_debt.groupby('RACE')['INCOME'].mean().round(2)\n",
    "print(income_by_race.round(2))\n",
    "\n",
    "# Calcula la diferencia entre el ingreso promedio de los Afroamericanos y los hispanos\n",
    "diference_income = income_by_race['Black / African American'] - income_by_race['Hispanic']\n",
    "diference_income.round(2)\n",
    "\n"
   ]
  },
  {
   "cell_type": "code",
   "execution_count": null,
   "metadata": {},
   "outputs": [
    {
     "name": "stdout",
     "output_type": "stream",
     "text": [
      "El promedio de los ingresos reportados por el hogar es: 294606.89\n"
     ]
    },
    {
     "name": "stderr",
     "output_type": "stream",
     "text": [
      "/tmp/ipykernel_2126/1292600555.py:15: SettingWithCopyWarning: \n",
      "A value is trying to be set on a copy of a slice from a DataFrame.\n",
      "Try using .loc[row_indexer,col_indexer] = value instead\n",
      "\n",
      "See the caveats in the documentation: https://pandas.pydata.org/pandas-docs/stable/user_guide/indexing.html#returning-a-view-versus-a-copy\n",
      "  df_debt['TOTAL_INGRESOS'] = df_ingresos.sum(axis=1)\n"
     ]
    }
   ],
   "source": [
    "\n",
    "# 9 Suma todos lo ingresos reportados para el hogar, por ejemplo,\n",
    "# BUSSEFARMINC       Income from business, sole proprietorship, and farm, 2016 dollars\n",
    "#  INTDIVINC          Interest (taxable and nontaxable) and dividend income, 2016 dollars\n",
    "# y el resto de ingresos con los que cuentes.\n",
    "# No sumes la variable INCOME ya que tu resultado lo vas a comparar con esta.\n",
    "# ¿Cuál es el promedio de la variable \"ingreso\" que tu calculaste?\n",
    "\n",
    "# Supongamos que tienes un DataFrame llamado df con las columnas de ingreso\n",
    "ingreso = ['BUSSEFARMINC', 'INTDIVINC', 'SSRETINC', 'TRANSFOTHINC', 'WAGEINC', 'KGINC', 'FOODHOME', 'FOODDELV', 'FOODAWAY']\n",
    "\n",
    "# Filtrar las columnas de ingreso\n",
    "df_ingresos = df_debt[ingreso]\n",
    "\n",
    "# Sumar los ingresos por hogar\n",
    "df_debt['TOTAL_INGRESOS'] = df_ingresos.sum(axis=1)\n",
    "\n",
    "# Calcular el promedio de los ingresos totales\n",
    "promedio_ingresos = df_debt['TOTAL_INGRESOS'].mean()\n",
    "\n",
    "# Redondear a dos decimales\n",
    "promedio_ingresos = round(promedio_ingresos, 2)\n",
    "\n",
    "# Imprimir el promedio\n",
    "print(f\"El promedio de los ingresos reportados por el hogar es: {promedio_ingresos}\")"
   ]
  },
  {
   "cell_type": "code",
   "execution_count": null,
   "metadata": {},
   "outputs": [
    {
     "data": {
      "text/plain": [
       "np.float64(21354.67)"
      ]
     },
     "execution_count": 108,
     "metadata": {},
     "output_type": "execute_result"
    }
   ],
   "source": [
    "# 10  ¿Cuál es la discrepancia entre el promediod el ingreso\n",
    "# que tu calculaste y el ingreso (INCOME) que viene en la base de datos?\n",
    "\n",
    "# saca el promedio de INCOME\n",
    "mean_INCOME = df_debt['INCOME'].mean()\n",
    "mean_INCOME\n",
    "\n",
    "# Compara mean_INCOME con promedio_ingresos\n",
    "comparacion = promedio_ingresos - mean_INCOME\n",
    "comparacion.round(2)"
   ]
  },
  {
   "cell_type": "code",
   "execution_count": null,
   "metadata": {},
   "outputs": [
    {
     "data": {
      "text/plain": [
       "RACE\n",
       "Black / African American    1.31\n",
       "Hispanic                    1.64\n",
       "Other                       1.08\n",
       "White non-Hispanic          1.07\n",
       "Name: KIDS, dtype: float64"
      ]
     },
     "execution_count": 109,
     "metadata": {},
     "output_type": "execute_result"
    }
   ],
   "source": [
    "# 5 Puntos Extra: Gráfica el número de hijos promedio por raza.\n",
    "# Calcular el promedio de hijos (KIDS) por grupo racial (RACE).\n",
    "\n",
    "# Calcular el promedio de hijos por grupo racial\n",
    "promedio_hijos_por_raza = df_debt.groupby('RACE')['KIDS'].mean().round(2)\n",
    "promedio_hijos_por_raza.round(2)\n"
   ]
  },
  {
   "cell_type": "code",
   "execution_count": null,
   "metadata": {},
   "outputs": [
    {
     "data": {
      "image/png": "[encoded data removed]",
      "text/plain": [
       "<Figure size 640x480 with 1 Axes>"
      ]
     },
     "metadata": {},
     "output_type": "display_data"
    }
   ],
   "source": [
    "# Crear un gráfico de barras para visualizar el promedio de hijos por raza\n",
    "promedio_hijos_por_raza.plot(kind='bar', color='skyblue')\n",
    "\n",
    "plt.title(\"Promedio de hijos por raza\")\n",
    "plt.xlabel(\"Raza\")\n",
    "plt.ylabel(\"Promedio cantidad de hijos\")\n",
    "plt.show()"
   ]
  }
 ],
 "metadata": {
  "kernelspec": {
   "display_name": "Python 3",
   "language": "python",
   "name": "python3"
  },
  "language_info": {
   "codemirror_mode": {
    "name": "ipython",
    "version": 3
   },
   "file_extension": ".py",
   "mimetype": "text/x-python",
   "name": "python",
   "nbconvert_exporter": "python",
   "pygments_lexer": "ipython3",
   "version": "3.12.1"
  }
 },
 "nbformat": 4,
 "nbformat_minor": 2
}
