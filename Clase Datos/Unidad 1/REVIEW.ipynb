{
 "cells": [
  {
   "cell_type": "code",
   "execution_count": null,
   "metadata": {},
   "outputs": [],
   "source": [
    "import pandas as pd \n",
    "import numpy as np \n",
    "import matplotlib.pyplot as plt \n",
    "import seaborn as sns \n",
    "\n",
    "data = pd.read_csv('.csv')\n",
    "data.info() \n",
    "data.describe() \n",
    "\n",
    "#Detectar valores nulos\n",
    "data.isnull().sum()\n",
    "\n",
    "#Eliminar las variables nulas\n",
    "data = data.dropna()\n",
    "\n",
    "#Eliminar columnas de la base de datos\n",
    "datos2 = data.drop(['11','22'], axis=1)\n",
    "\n",
    "#Eliminar COLUMNA por numero de columna\n",
    "#Columnas consecutivas\n",
    "datos3 = data.drop(data.columns[0:2], axis=1) # Elimina las columnas 0 y 1. NO LA 2.\n",
    "\n",
    "#Columnas separadas\n",
    "datos3 = data.drop(data.columns[[0,2]], axis=1) # Doble corchete porque son vectores\n",
    "\n",
    "#Eliminar solo una columna\n",
    "datos3 = data.drop(data.columns[0], axis=1)\n",
    "\n",
    "#ELIMINAR FILAS\n",
    "#Forma 1:\n",
    "datos4 = data.drop([0,1,2], axis='rows') #Elimina las filas 0, 1 y 2\n",
    "datos4 = data.drop([0,1,2], axis=0) #Es lo mismo pero con \"0\"\n",
    "\n",
    "#Forma 2:\n",
    "datos3 = data.drop(data.index[0:3], axis=0) #Elimina las filas 0, 1 y 2\n",
    "datos3 = data.drop(data.index[4], axis=0) #Elimina la fila 4\n",
    "\n",
    "#Filas = (0) y columnas = (1)\n",
    "\n",
    "#CAMBIAR NOMBRE DE LA COLUMNA\n",
    "datos5 = data.rename(columns = {'CLIENTNUM':'CLIENTE'})\n",
    "datos5 = data.rename(columns = {'CLIENTNUM':'CLIENTE', 'Customer_Age':'Edad'})\n",
    "\n",
    "#Agregar _ en lugar de espacios en blancos en columnas\n",
    "datos5.columns = data.columns.str.replace('_', ' ')\n",
    "datos5.columns = data.columns.str.replace('_', '')\n",
    "datos5.columns = datos5.columns.str.replace(' ', '')\n",
    "\n",
    "#Agregar una columna igual a 1 si la columna gender es igual a 'M' y 0 si es 'F'\n",
    "datos2['Genero'] = data['Gender'].apply(lambda x: 1 if x == 'M' else 0)"
   ]
  },
  {
   "cell_type": "markdown",
   "metadata": {},
   "source": [
    "## NUMEROS / OPERACIONES / MAYOR O MENOR A"
   ]
  },
  {
   "cell_type": "code",
   "execution_count": null,
   "metadata": {},
   "outputs": [],
   "source": [
    "\n",
    "#Agregar una columna con el promedio de las columnas numéricas\n",
    "numeric_columns = data.select_dtypes(include=['number']).columns\n",
    "datos2['Promedio'] = data[numeric_columns].mean(axis=1)\n",
    "\n",
    "#Agregar una columna con la suma de las columnas numéricas\n",
    "datos2['Suma'] = data[numeric_columns].sum(axis=1)\n",
    "\n",
    "#Agregar una columna con la suma de dos columnas\n",
    "datos2['Suma2'] = data['Customer_Age'] + data['Dependent_count']\n",
    "\n",
    "#Agregar una columna con la resta de las columnas numéricas\n",
    "datos2['Resta'] = data['Customer_Age'] - data['Dependent_count']\n",
    "\n",
    "#Agregar una columna con la multiplicación de las columnas numéricas\n",
    "datos2['Multiplicacion'] = data['Customer_Age'] * data['Dependent_count']\n",
    "\n",
    "#Agregar una columna con la división de las columnas numéricas\n",
    "datos2['Division'] = data['Customer_Age'] / data['Dependent_count']\n",
    "\n",
    "#Mover la columna \"c\" al inicio\n",
    "columna = datos2.pop(\"Division\") #Elimina columna y la guarda en columna\n",
    "datos2.insert(0, 'Division', columna) #Inserta la columna en la posición deseada\n",
    "\n",
    "#Eliminar observaciones si la columna 'Customer_Age' es mayor a 50\n",
    "datos2 = datos[datos['Customer_Age'] > 50]\n",
    "\n",
    "#Conservar observaciones si la columna 'Customer_Age' es mayor o igual a 50\n",
    "datos2 = datos[datos['Customer_Age'] >= 50]\n",
    "\n",
    "#Eliminar observaciones si la columna 'Customer_Age' es mayor a 50 y la columna 'Dependent_count' es mayor a 2\n",
    "datos2 = datos[(datos['Customer_Age'] > 50) & (datos['Dependent_count'] > 2)]\n",
    "\n",
    "#Eliminar observaciones si la columna 'Customer_Age' es mayor a 50 o la columna 'Dependent_count' es mayor a 2\n",
    "datos2 = datos[(datos['Customer_Age'] > 50) | (datos['Dependent_count'] > 2)]\n",
    "\n",
    "#Eliminar observaciones de la columna 'Customer_Age'si la columna 'Dependent_count' es mayor a 2\n",
    "datos2 = datos.drop(datos[datos['Dependent_count'] > 2].index)\n",
    "\n",
    "#Eliminar observaciones de la columna 'Customer_Age' es mayor a 50 o la columna 'Dependent_count' es mayor a 2\n",
    "datos2 = datos.drop(datos[(datos['Customer_Age'] > 50) | (datos['Dependent_count'] > 2)].index)\n",
    "\n",
    "#Eliminar observaciones si la columna 'Depenedent_count' es mayor a 2 y la columna 'Education_level' es igual a 'Graduate'\n",
    "datos2 = datos.drop(datos[(datos['Dependent_count'] > 2) & (datos['Education_Level'] == 'Graduate')].index)\n",
    "\n",
    "#Eliminar observaciones si la columna 'Depenedent_count' es mayor a 2 o la columna 'Education_level' es igual a 'Graduate'\n",
    "datos2 = datos.drop(datos[(datos['Dependent_count'] > 2) | (datos['Education_Level'] == 'Graduate')].index)\n",
    "\n",
    "#Agrergar una columna igual a 1 si la columna es 'Gender' es igual a 'M' y 0 si es 'F'\n",
    "datos2['Genero'] = datos['Gender'].apply(lambda x: 1 if x == 'M' else 0)\n",
    "\n",
    "#Etiquetar las observaciones de \"Genero\" como \"Masculino\" si la columna \"Genero\" es igual a 1 y \"Femenino\" si es igual a 0\n",
    "datos2['Genero'] = datos2['Genero'].apply(lambda x: 'Masculino' if x == 1 else 'Femenino')"
   ]
  },
  {
   "cell_type": "markdown",
   "metadata": {},
   "source": [
    "## TRANSFORMAR A CATEGORICAS"
   ]
  },
  {
   "cell_type": "code",
   "execution_count": null,
   "metadata": {},
   "outputs": [],
   "source": [
    "#Transformar la columna 'Education_Level' a categórica\n",
    "datos2['Education_Level'] = datos['Education_Level'].astype('category')\n",
    "\n",
    "#Ver kis valores que toma cada variable categorica\n",
    "datos2['Education_Level'].value_counts()\n",
    "\n",
    "#Reacomodar los valores de la variable categórica\n",
    "datos2['Education_Level'] = datos2['Education_Level'].cat.set_categories(['Uneducated', 'High School', 'College', 'Graduate', 'Post-Graduate', 'Doctorate'], ordered=True)\n",
    "\n",
    "datos2['Education_Level'].unique()"
   ]
  },
  {
   "cell_type": "code",
   "execution_count": null,
   "metadata": {},
   "outputs": [],
   "source": [
    "#Estadisticos descriptivos de oda la base con solo dos decimales\n",
    "# De una sola variable\n",
    "data2['Credit_Limit'].describe().round(2)\n",
    "\n",
    "# Estadisticos descriptivos particulares de una columna/variable\n",
    "data[['CRIM','MEDV']].mean().round(2)\n",
    "data['CRIM'].median()\n",
    "data['CRIM'].mode()\n",
    "data['CRIM'].std()\n",
    "data['CRIM'].var()\n",
    "data['CRIM'].min()\n",
    "data['CRIM'].max()\n",
    "data['CRIM'].quantile(0.25)\n",
    "data['CRIM'].quantile(0.30)"
   ]
  },
  {
   "cell_type": "markdown",
   "metadata": {},
   "source": [
    "## TABLAS DE FRECUENCIAS"
   ]
  },
  {
   "cell_type": "code",
   "execution_count": null,
   "metadata": {},
   "outputs": [],
   "source": [
    "#Tabla de frecuencias de una variable ordenadas\n",
    "data2['Education_Level'].value_counts().sort_index()\n",
    "data2['Marital_Status'].value_counts().sort_index()\n",
    "\n",
    "#⁠Tabla de frecuencias relativas (porcentaje) de una variable\n",
    "data2['Education_Level'].value_counts(normalize = True).sort_index().round(2)\n",
    "datos_h['Education_Level'].value_counts(normalize = True).sort_index().round(4) * 100"
   ]
  },
  {
   "cell_type": "markdown",
   "metadata": {},
   "source": [
    "## CORRELACION"
   ]
  },
  {
   "cell_type": "code",
   "execution_count": null,
   "metadata": {},
   "outputs": [],
   "source": [
    "# Tabla de correlaciones entre variables\n",
    "data.corr().round(2)\n",
    "\n",
    "# Correlacion entre 2 variables en porcentaje con 2 decimales\n",
    "round(df_debt['KIDS'].corr(df_debt['HDEBT']) * 100, 2)"
   ]
  },
  {
   "cell_type": "markdown",
   "metadata": {},
   "source": [
    "## TABLAS CRUZADAS"
   ]
  },
  {
   "cell_type": "code",
   "execution_count": null,
   "metadata": {},
   "outputs": [],
   "source": [
    "# Tabla cruzada de dos variables\n",
    "pd.crosstab(data2['Education_Level'], data2['Marital_Status'])\n",
    "\n",
    "# Tabla cruzada de dos variables con porcentajes\n",
    "tabla1= pd.crosstab(data2['Education_Level'], data2['Marital_Status'], normalize = 'columns').round(2) #IMPORTANTE PONER \"COLUMNS\" O \"INDEX\", NO TRUE\n",
    "print(tabla1) #IMPORTANTE PONER \"COLUMNS\" O \"INDEX\", NO TRUE. LO QUE PONGAS, COLUMNA/INDEX DEBE DE SUMAR 100%\n",
    "\n",
    "tabla2=pd.crosstab(data2['Education_Level'], data2['Marital_Status'], normalize = 'index').round(2)\n",
    "print(tabla2)\n",
    "\n",
    "#¿De los divorciados, cuantos tienen doctorado?\n",
    "#- Irte a la columna/index de los divorciados y después a el doctorado\n",
    "# *hacer normalize: Index/columns dependiendo de donde esta el dato que te estan preguntando."
   ]
  },
  {
   "cell_type": "code",
   "execution_count": null,
   "metadata": {},
   "outputs": [],
   "source": [
    "# 15 Realiza una tabla cruzada y responde la siguiente pregunta: ¿Qué porcentaje de familias con deuda tienen 3 o más hijos?\n",
    "tabla2 = pd.crosstab(df_debt['KIDS'], df_debt['HDEBT'], normalize = 'columns').round(2)\n",
    "print(tabla2)\n",
    "\n",
    "#sumar las familias con deudas y 3 o mas hijos\n",
    "tabla2 = tabla2.loc[3:9, 1].sum() *100\n",
    "print(tabla2)"
   ]
  },
  {
   "cell_type": "markdown",
   "metadata": {},
   "source": [
    "## FILTRAR"
   ]
  },
  {
   "cell_type": "code",
   "execution_count": null,
   "metadata": {},
   "outputs": [],
   "source": [
    "# Filtrar datos donde el género es 'F'\n",
    "datos_f = data2[data2['Gender'] =='F']\n",
    "edad_promedio = datos_f['Customer_Age'].mean().round(2)\n",
    "print('Edad promedio de los clientes femeninos:',edad_promedio)\n",
    "\n",
    "# Filtrar datos donde el género es 'M'\n",
    "datos_h = data2[data2['Gender'] !='F'] # DAME TODOS LOS QUE NO SON F\n",
    "edad_promedio = datos_h['Customer_Age'].mean().round(2)\n",
    "print('Edad promedio de los clientes hombres:',edad_promedio)"
   ]
  },
  {
   "cell_type": "markdown",
   "metadata": {},
   "source": [
    "## GRAFICOS"
   ]
  },
  {
   "cell_type": "markdown",
   "metadata": {},
   "source": [
    "#### PIE CHART"
   ]
  },
  {
   "cell_type": "code",
   "execution_count": null,
   "metadata": {},
   "outputs": [],
   "source": [
    "# Gráfico de barras de una variable\n",
    "data2['Education_Level'].value_counts().sort_index().plot(kind='pie')\n",
    "\n",
    "# Agregar título y etiquetas\n",
    "data2['Education_Level'].value_counts().sort_index().plot(kind='pie', autopct='%1.1f%%', colormap='Blues', title='Nivel de educación de los clientes', ylabel='')"
   ]
  },
  {
   "cell_type": "markdown",
   "metadata": {},
   "source": [
    "##### OTRA MANERA DE HACERLO:"
   ]
  },
  {
   "cell_type": "code",
   "execution_count": null,
   "metadata": {},
   "outputs": [],
   "source": [
    "#2. Realizamos el gráfico\n",
    "df_continents['Total'].plot(kind='pie', figsize=(5,6), autopct='%.1f%%', startangle=45, shadow=True)\n",
    "plt.title('Inmigration to Canada by Continent from 1980-2013')\n",
    "plt.axis('equal')\n",
    "plt.show()\n",
    "\n",
    "#Mejoramos la estetica del gráfico\n",
    "colores = ['y', 'burlywood','peachpuff', 'peru', 'thistle', 'lightcyan']\n",
    "explode_porc = [0.1,0,0,0,0.1,0.2]\n",
    "df_continents['Total'].plot(kind='pie', figsize=(15,6), autopct='%.1f%%', startangle=70, shadow=True,\n",
    "                            colors=colores, labels=None, pctdistance=1.15, explode=explode_porc)\n",
    "plt.title('Inmigration to Canada by Continent from 1980-2013', y=1.08)\n",
    "plt.axis('equal')\n",
    "\n",
    "#Agregamos la leyenda\n",
    "plt.legend(labels=df_continents.index, loc='upper left')\n",
    "plt.show()"
   ]
  },
  {
   "cell_type": "markdown",
   "metadata": {},
   "source": [
    "### HISTOGRAM / GRAFICA DE BARRAS"
   ]
  },
  {
   "cell_type": "code",
   "execution_count": null,
   "metadata": {},
   "outputs": [],
   "source": [
    "data2['Education_Level'].value_counts(normalize=True).sort_index().plot(kind='bar')\n",
    "\n",
    "## Grafica de barras con porcentaje ordenada\n",
    "data2['Education_Level'].value_counts(normalize=True).sort_values().plot(kind='bar', title='Nivel de educación de los clientes', ylabel='Porcentaje', xlabel='Nivel de educación', colormap='PiYG')\n"
   ]
  },
  {
   "cell_type": "markdown",
   "metadata": {},
   "source": [
    "##### OTRA MANERA DE HACERLO:"
   ]
  },
  {
   "cell_type": "code",
   "execution_count": null,
   "metadata": {},
   "outputs": [],
   "source": [
    "df_mex.plot(kind='bar', figsize=(8,6), color='Pink')\n",
    "plt.title('Mexican inmigrants to Canada from 1980-2013')\n",
    "plt.ylabel('Number of inmigrants')\n",
    "plt.xlabel('Year')\n",
    "plt.show"
   ]
  },
  {
   "cell_type": "code",
   "execution_count": null,
   "metadata": {},
   "outputs": [],
   "source": [
    "# 19 Realiza un histograma con donde se pueda observar 2 variables\n",
    "\n",
    "# Convertir a formato long (melt), conservando HHSEX\n",
    "df_savres = df_debt.melt(id_vars=[\"HHSEX\"], value_vars=cols_savres, \n",
    "                         var_name=\"Razon_Ahorro\", value_name=\"Presente\")\n",
    "\n",
    "# Filtrar solo las razones de ahorro marcadas como 1\n",
    "df_savres = df_savres[df_savres[\"Presente\"] == 1]\n",
    "\n",
    "df_savres[\"Razon_Ahorro\"] = df_savres[\"Razon_Ahorro\"].map(razon_ahorro_labels)\n",
    "\n",
    "# Graficar con `countplot()` para variables categóricas\n",
    "plt.figure(figsize=(12, 6))\n",
    "sns.countplot(data=df_savres, x=\"Razon_Ahorro\", hue=\"HHSEX\", palette=\"Set2\")\n",
    "\n",
    "# Ajustes de la gráfica\n",
    "plt.title(\"Razones de Ahorro por Género del Jefe de Hogar\")\n",
    "plt.xlabel(\"Razón de Ahorro\")\n",
    "plt.ylabel(\"Número de Hogares\")\n",
    "plt.xticks(rotation=45)\n",
    "plt.legend(title=\"Género del Jefe de Hogar\", labels=[\"Male\", \"Female\"])\n",
    "plt.grid(axis=\"y\", linestyle=\"--\", alpha=0.7)\n",
    "\n",
    "# Mostrar gráfico\n",
    "plt.show()"
   ]
  },
  {
   "cell_type": "code",
   "execution_count": null,
   "metadata": {},
   "outputs": [],
   "source": [
    "#17 Agrega en una sola variable las razones por las que se ahorra SAVRES1 a SVRES9 y transformala en categorica, \n",
    "\n",
    "# Combinar las razones de ahorro en una sola columna categórica\n",
    "cols_savres = [\"SAVRES1\", \"SAVRES2\", \"SAVRES3\", \"SAVRES4\", \"SAVRES5\",\"SAVRES6\",\"SAVRES7\", \"SAVRES8\", \"SAVRES9\"]\n",
    "\n",
    "# Convertir los valores en una sola columna (de formato wide a long)\n",
    "df_savres = df_debt.melt(value_vars=cols_savres, var_name=\"Razon_Ahorro\", value_name=\"Presente\")\n",
    "\n",
    "# Filtrar solo las filas donde el ahorro está presente ( 1 significa \"sí\")\n",
    "df_savres = df_savres[df_savres[\"Presente\"] == 1]\n",
    "\n",
    "# Contar la frecuencia de cada razón de ahorro\n",
    "razon_counts = df_savres [\"Razon_Ahorro\"]. value_counts()\n",
    "\n",
    "# Crear el gráfico de barras \n",
    "plt. figure(figsize=(10, 5))\n",
    "sns. barplot(x=razon_counts. index, y=razon_counts.values, palette=\"viridis\")\n",
    "plt.xticks(rotation=45)\n",
    "plt. xlabel(\"Razón de Ahorro\")\n",
    "plt. ylabel (\"Frecuencia\" )\n",
    "plt. title(\"Distribución de Razones de Ahorro\" )\n",
    "plt. show()"
   ]
  },
  {
   "cell_type": "code",
   "execution_count": null,
   "metadata": {},
   "outputs": [],
   "source": [
    "# 18 Cambia las etiquetas de la variable por la razon que ahorra, es decir, cambiar en la gráfica SAVRES1 por can't save.\n",
    "\n",
    "# Reemplazar nombres de columnas por etiquetas de texto con los nombres que mencionaste\n",
    "razon_ahorro_labels = {\n",
    "    \"SAVRES1\": \"Can't Save\",\n",
    "    \"SAVRES2\": \"Education\",\n",
    "    \"SAVRES3\": \"Family\",\n",
    "    \"SAVRES4\": \"Home\",\n",
    "    \"SAVRES5\": \"Purchases\",\n",
    "    \"SAVRES6\": \"Retirement\",\n",
    "    \"SAVRES7\": \"Liquidity/Future\",\n",
    "    \"SAVRES8\": \"Investment\",\n",
    "    \"SAVRES9\": \"No particular reason\"\n",
    "}\n",
    "\n",
    "# Mapear los valores\n",
    "razon_counts = df_savres[\"Razon_Ahorro\"].value_counts()\n",
    "\n",
    "# Hacer grafica de barras\n",
    "plt.figure(figsize=(10, 5))\n",
    "plt.bar(razon_ahorro_labels.values(), razon_counts.values, color='skyblue')\n",
    "plt.xticks(rotation=45)\n",
    "plt.xlabel('Razón de Ahorro')\n",
    "plt.ylabel('Frecuencia')\n",
    "plt.title('Distribución de Razones de Ahorro')"
   ]
  },
  {
   "cell_type": "markdown",
   "metadata": {},
   "source": [
    "##### HORIZONTAL:"
   ]
  },
  {
   "cell_type": "code",
   "execution_count": null,
   "metadata": {},
   "outputs": [],
   "source": [
    "data2['Education_Level'].value_counts(normalize=True).sort_values().plot(kind='barh', title='Nivel de educación de los clientes', ylabel='Porcentaje', xlabel='Nivel de educación', colormap='PiYG')\n",
    "\n",
    "# OTRA MANERA DE HACERLO\n",
    "df_top15.plot(kind='barh', figsize=(8,6))\n",
    "plt.title('Last 15 countries that contributed to inmigration in Canada from 1980-2013')\n",
    "plt.ylabel('Country')\n",
    "plt.xlabel('Number of inmigrants')\n"
   ]
  },
  {
   "cell_type": "markdown",
   "metadata": {},
   "source": [
    "### GRAFICA DE BARRAS DE DOS VARIABLES \n",
    "##### (Como la pregunta 20. de la tarea) - hacer una cross table y despues graficarla"
   ]
  },
  {
   "cell_type": "code",
   "execution_count": null,
   "metadata": {},
   "outputs": [],
   "source": [
    "# Gráfica de barras de dos variables\n",
    "pd.crosstab(data2['Education_Level'], data2['Marital_Status']).plot(kind='bar')\n",
    "\n",
    "# OTRA MANERA DE HACERLO:\n",
    "# Crear una tabla cruzada entre el género del jefe de hogar y las razones de ahorro\n",
    "tabla_cruzada = pd.crosstab(df_savres['HHSEX'], df_savres['Razon_Ahorro'])\n",
    "\n",
    "# Graficar la tabla cruzada como un gráfico de barras\n",
    "tabla_cruzada.plot(kind='bar', figsize=(10,6))\n",
    "\n",
    "# Personalización del gráfico\n",
    "plt.title(\"Razones de Ahorro por Género del Jefe de Familia\")\n",
    "plt.xlabel(\"Género del Jefe de Familia\")\n",
    "plt.ylabel(\"Frecuencia\")\n",
    "plt.xticks(ticks=[0,1], labels=['Male', 'Female'], rotation=0)\n",
    "plt.legend(title=\"Razón de Ahorro\")\n",
    "\n",
    "plt.show()"
   ]
  },
  {
   "cell_type": "markdown",
   "metadata": {},
   "source": [
    "##### OTRA MANERA DE HACERLO:"
   ]
  },
  {
   "cell_type": "code",
   "execution_count": null,
   "metadata": {},
   "outputs": [],
   "source": [
    "# Configuración del estilo\n",
    "sns.set(style=\"whitegrid\") \n",
    "plt.figure(figsize=(10, 5)) \n",
    "\n",
    "# CREANDO GRAFICA\n",
    "ax = sns.countplot(\n",
    "    data=df_savres, \n",
    "    x=\"HHSEX\", \n",
    "    hue=\"Razon_Ahorro\", \n",
    "    palette=[\"#9467bd\", \"#8c564b\", \"#e377c2\", \"#7f7f7f\", \"#bcbd22\", \"#17becf\", \"#ff7f0e\", \"#2ca02c\", \"#1f77b4\"]\n",
    ")\n",
    "\n",
    "# Ajustar títulos y etiquetas\n",
    "plt.xlabel(\"Género del Jefe de Hogar\", fontsize=12, weight='bold')  \n",
    "plt.ylabel(\"Número de hogares\", fontsize=12, weight='bold')\n",
    "plt.title(\"Razones de Ahorro por Género del Jefe de Hogar\", fontsize=14, weight='bold')\n",
    "\n",
    "# ETIQUETAS EJE X\n",
    "ax.set_xticklabels([\"Female\", \"Male\"], fontsize=12, weight=\"bold\", rotation=90, ha=\"center\")  \n",
    "\n",
    "# LEGENDA\n",
    "plt.legend(title=\"Razón de Ahorro\", loc=\"upper right\", bbox_to_anchor=(1.3, 1), fontsize=10)\n",
    "\n",
    "# Ajustar grosor de las líneas de los ejes\n",
    "ax.spines[\"top\"].set_visible(False)\n",
    "ax.spines[\"right\"].set_visible(False)\n",
    "ax.spines[\"left\"].set_linewidth(1.2)\n",
    "ax.spines[\"bottom\"].set_linewidth(1.2)\n",
    "\n",
    "# Espaciar más los valores en el eje X\n",
    "plt.subplots_adjust(bottom=0.2)  # Desplaza la gráfica un poco para que haya espacio\n",
    "\n",
    "plt.show()"
   ]
  },
  {
   "cell_type": "markdown",
   "metadata": {},
   "source": [
    "### GRAFICA DE DISPERSIÓN DE DOS VARIABLES"
   ]
  },
  {
   "cell_type": "code",
   "execution_count": null,
   "metadata": {},
   "outputs": [],
   "source": [
    "# Grafica de dispersion de dos variables\n",
    "plt.scatter(data['CRIM'], data['MEDV'])\n",
    "\n",
    "# Agregar título y etiquetas\n",
    "plt.xlabel('Tasa de criminalidad (CRIM)')\n",
    "plt.ylabel('Valor Mediano de Viviendas (MEDV)')\n",
    "plt.title('Relación entre la tasa de criminalidad y el valor mediano de viviendas')\n",
    "\n",
    "# Agregar línea de tendencia\n",
    "sns.regplot(x='CRIM', y='MEDV', data=data)\n",
    "\n",
    "#Agregar ecuación de la línea de tendencia\n",
    "plt.text(10, 40, 'y = 24.0331 - 0.4152x', fontsize=12)\n",
    "\n",
    "# Línea de tendencia que no pase del 0 en los ejes\n",
    "plt.ylim(0, 60)\n",
    "\n",
    "# Línea de tendencia negra y punteada\n",
    "sns.regplot(x='CRIM', y='MEDV', data=data, color='black', line_kws={'linestyle': '--'})\n",
    "\n",
    "plt.show()"
   ]
  },
  {
   "cell_type": "markdown",
   "metadata": {},
   "source": [
    "# EXTRA"
   ]
  },
  {
   "cell_type": "code",
   "execution_count": null,
   "metadata": {},
   "outputs": [],
   "source": [
    "# 14 Proporcionalmente ¿quienes tienen más deudas los jefes o las jefas de familia?\n",
    "\n",
    "# Contar hogares con y sin deuda según el género del jefe de hogar\n",
    "deuda_por_genero = df_debt.groupby(\"HHSEX\")[\"HDEBT\"].mean() * 100\n",
    "\n",
    "# Imprimir resultados\n",
    "print(f\"Porcentaje de jefes de familia con deuda: {deuda_por_genero[1]:.2f}%\")\n",
    "print(f\"Porcentaje de jefas de familia con deuda: {deuda_por_genero[2]:.2f}%\")\n",
    "\n",
    "# Determinar quién tiene más deuda proporcionalmente\n",
    "if deuda_por_genero[1] > deuda_por_genero[2]:\n",
    "    print(\"Los jefes de familia (hombres) tienen más deudas proporcionalmente.\")\n",
    "elif deuda_por_genero[1] < deuda_por_genero[2]:\n",
    "    print(\"Las jefas de familia (mujeres) tienen más deudas proporcionalmente.\")\n",
    "else:\n",
    "    print(\"Tienen deudas en la misma proporción.\")"
   ]
  },
  {
   "cell_type": "code",
   "execution_count": null,
   "metadata": {},
   "outputs": [],
   "source": [
    "# 10 ¿Cuántos hogares reportaron tener un jefe de familia mujer?\n",
    "house_m = df_debt[df_debt['HHSEX'] == 2]\n",
    "house_m \n",
    "\n",
    "# 11 ¿Qué porcentaje de la base total representa?\n",
    "porcentaje_house_m = round((len(house_m) / len(df_debt)) * 100, 2)\n",
    "porcentaje_house_m\n",
    "\n",
    "# 9 ¿Cuántos hogares reportaron tener deudas?\n",
    "house_debt = df_debt[df_debt['HDEBT'] == 1]\n",
    "house_debt"
   ]
  },
  {
   "cell_type": "markdown",
   "metadata": {},
   "source": [
    "### CODES\n",
    "\n",
    "`import pandas as pd`\n",
    "\n",
    "Eliminar → `drop`\n",
    "\n",
    "Cambiar nombre → `rename`\n",
    "\n",
    "Reemplazar → `str.replace`\n",
    "\n",
    "“Si solo si” → `< == >`\n",
    "\n",
    "“Entonces” → `= >`\n",
    "\n",
    "Nivel índice de correlación = 0.40 es una alta correlación, ahi ya no metes las dos variables juntas en una cartera x ejemplo."
   ]
  }
 ],
 "metadata": {
  "kernelspec": {
   "display_name": "Python 3",
   "language": "python",
   "name": "python3"
  },
  "language_info": {
   "codemirror_mode": {
    "name": "ipython",
    "version": 3
   },
   "file_extension": ".py",
   "mimetype": "text/x-python",
   "name": "python",
   "nbconvert_exporter": "python",
   "pygments_lexer": "ipython3",
   "version": "3.12.1"
  }
 },
 "nbformat": 4,
 "nbformat_minor": 2
}
